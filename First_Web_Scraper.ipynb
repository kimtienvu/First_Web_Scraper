{
  "nbformat": 4,
  "nbformat_minor": 0,
  "metadata": {
    "colab": {
      "name": "First Web Scraper.ipynb",
      "provenance": [],
      "collapsed_sections": [],
      "authorship_tag": "ABX9TyP7cCH1zaGVN5CXwhBcIzeQ",
      "include_colab_link": true
    },
    "kernelspec": {
      "name": "python3",
      "display_name": "Python 3"
    }
  },
  "cells": [
    {
      "cell_type": "markdown",
      "metadata": {
        "id": "view-in-github",
        "colab_type": "text"
      },
      "source": [
        "<a href=\"https://colab.research.google.com/github/kimtienvu/First_Web_Scraper/blob/master/First_Web_Scraper.ipynb\" target=\"_parent\"><img src=\"https://colab.research.google.com/assets/colab-badge.svg\" alt=\"Open In Colab\"/></a>"
      ]
    },
    {
      "cell_type": "code",
      "metadata": {
        "id": "eKCPSGhDj3no",
        "colab_type": "code",
        "colab": {}
      },
      "source": [
        "# Import all dependencies\n",
        "from urllib.request import urlopen\n",
        "from bs4 import BeautifulSoup"
      ],
      "execution_count": null,
      "outputs": []
    },
    {
      "cell_type": "code",
      "metadata": {
        "id": "eCI1OlpF8IJi",
        "colab_type": "code",
        "colab": {
          "base_uri": "https://localhost:8080/",
          "height": 90
        },
        "outputId": "f3973a1f-5505-4c17-f65d-9522d152ece5"
      },
      "source": [
        "# Prompt User for URL\n",
        "print(\"Instructions: Insert URL of Website you wish to web scrape\")\n",
        "print(\"NOTE: Please make sure the website allows you to web scrape (Look for a terms and conditions page)\")\n",
        "\n",
        "URL = input(\"Enter the URL...\")\n",
        "HTML = urlopen(URL)\n",
        "\n",
        "# Get Status Code of URL if HTTP\n",
        "print(\"status code: \" + str(HTML.getcode()))\n",
        "\n",
        "content = HTML.read()\n",
        "\n",
        "# Print contents of the HTML file\n",
        "soup = BeautifulSoup(content, 'html.parser')\n",
        "print(soup.prettify())\n",
        "\n",
        "# Prompt User if they are looking for a specific tag\n",
        "specific = input(\"Would you like to find a specific tag? (y/n\")\n",
        "\n",
        "if specific == \"y\" or specific == \"Y\":\n",
        "  tag = input(\"What kind of tag are you looking for?\")\n",
        "  tag = str(tag)\n",
        "  tag_list = soup.find_all(tag)\n",
        "  print(type(tag_list))\n",
        "\n",
        "  for el in tag_list:\n",
        "    print(el.get_text())\n"
      ],
      "execution_count": null,
      "outputs": [
        {
          "output_type": "stream",
          "text": [
            "Instructions: Insert URL of Website you wish to web scrape\n",
            "NOTE: Please make sure the website allows you to web scrape (Look for a terms and conditions page)\n"
          ],
          "name": "stdout"
        }
      ]
    }
  ]
}